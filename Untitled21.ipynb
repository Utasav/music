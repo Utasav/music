{
  "cells": [
    {
      "cell_type": "code",
      "execution_count": 15,
      "metadata": {
        "colab": {
          "base_uri": "https://localhost:8080/"
        },
        "id": "dbXFVAskD4B5",
        "outputId": "5464b04c-25e5-41ba-d226-759429ff0037"
      },
      "outputs": [
        {
          "output_type": "stream",
          "name": "stdout",
          "text": [
            "Mounted at /content/drive\n"
          ]
        }
      ],
      "source": [
        "from google.colab import drive\n",
        "drive.mount('/content/drive')\n"
      ]
    },
    {
      "cell_type": "code",
      "execution_count": 16,
      "metadata": {
        "id": "CvjGSd5BD6dr"
      },
      "outputs": [],
      "source": [
        "dataset_path = '/content/drive/MyDrive/Music.csv'\n"
      ]
    },
    {
      "cell_type": "code",
      "execution_count": 17,
      "metadata": {
        "colab": {
          "base_uri": "https://localhost:8080/"
        },
        "id": "YcZdBiviFMcd",
        "outputId": "50a9ea51-9436-4826-aa62-5b39dbd73604"
      },
      "outputs": [
        {
          "output_type": "stream",
          "name": "stdout",
          "text": [
            "   Unnamed: 0           artist_name            track_name  release_date genre  \\\n",
            "0           0                mukesh  mohabbat bhi jhoothi          1950   pop   \n",
            "1           4         frankie laine             i believe          1950   pop   \n",
            "2           6           johnnie ray                   cry          1950   pop   \n",
            "3          10           pérez prado              patricia          1950   pop   \n",
            "4          12  giorgos papadopoulos    apopse eida oneiro          1950   pop   \n",
            "\n",
            "                                              lyrics  len    dating  violence  \\\n",
            "0  hold time feel break feel untrue convince spea...   95  0.000598  0.063746   \n",
            "1  believe drop rain fall grow believe darkest ni...   51  0.035537  0.096777   \n",
            "2  sweetheart send letter goodbye secret feel bet...   24  0.002770  0.002770   \n",
            "3  kiss lips want stroll charm mambo chacha merin...   54  0.048249  0.001548   \n",
            "4  till darling till matter know till dream live ...   48  0.001350  0.001350   \n",
            "\n",
            "   world/life  ...   sadness  feelings  danceability  loudness  acousticness  \\\n",
            "0    0.000598  ...  0.380299  0.117175      0.357739  0.454119      0.997992   \n",
            "1    0.443435  ...  0.001284  0.001284      0.331745  0.647540      0.954819   \n",
            "2    0.002770  ...  0.002770  0.225422      0.456298  0.585288      0.840361   \n",
            "3    0.001548  ...  0.225889  0.001548      0.686992  0.744404      0.083935   \n",
            "4    0.417772  ...  0.068800  0.001350      0.291671  0.646489      0.975904   \n",
            "\n",
            "   instrumentalness   valence    energy       topic  age  \n",
            "0          0.901822  0.339448  0.137110     sadness  1.0  \n",
            "1          0.000002  0.325021  0.263240  world/life  1.0  \n",
            "2          0.000000  0.351814  0.139112       music  1.0  \n",
            "3          0.199393  0.775350  0.743736    romantic  1.0  \n",
            "4          0.000246  0.597073  0.394375    romantic  1.0  \n",
            "\n",
            "[5 rows x 31 columns]\n"
          ]
        }
      ],
      "source": [
        "import pandas as pd\n",
        "\n",
        "df = pd.read_csv(dataset_path)\n",
        "print(df.head())\n"
      ]
    },
    {
      "cell_type": "code",
      "execution_count": 18,
      "metadata": {
        "id": "iUtdddueFTv6"
      },
      "outputs": [],
      "source": [
        "import numpy as np\n",
        "import pandas as pd\n",
        "\n",
        "# Normalize data\n",
        "from sklearn.preprocessing import MinMaxScaler\n",
        "\n",
        "# Make sure 'df' is defined in this scope\n",
        "# Assuming dataset_path is defined and the CSV file exists\n",
        "dataset_path = '/content/drive/MyDrive/Music.csv' # Assuming this is the correct path\n",
        "df = pd.read_csv(dataset_path) # Load DataFrame here\n",
        "\n",
        "\n",
        "# Select only numerical features for scaling\n",
        "numerical_features = df.select_dtypes(include=np.number).columns\n",
        "# Apply MinMaxScaler only to numerical features\n",
        "scaler = MinMaxScaler()\n",
        "df[numerical_features] = scaler.fit_transform(df[numerical_features])\n",
        "\n",
        "# If you need 'data' as a NumPy array:\n",
        "data = df[numerical_features].values\n",
        "\n",
        "# Create sequences\n",
        "def create_sequences(data, seq_length):\n",
        "    x, y = [], []\n",
        "    for i in range(len(data) - seq_length):\n",
        "        x.append(data[i:i + seq_length])\n",
        "        y.append(data[i + seq_length])\n",
        "    return np.array(x), np.array(y)\n",
        "\n",
        "seq_length = 10\n",
        "X, y = create_sequences(data, seq_length)"
      ]
    },
    {
      "cell_type": "code",
      "execution_count": 19,
      "metadata": {
        "colab": {
          "base_uri": "https://localhost:8080/",
          "height": 1000
        },
        "id": "aCDS9JQnFk4D",
        "outputId": "94e78638-6d7f-4bd1-d002-41dbfdb84bb3"
      },
      "outputs": [
        {
          "output_type": "stream",
          "name": "stderr",
          "text": [
            "/usr/local/lib/python3.10/dist-packages/keras/src/layers/rnn/rnn.py:204: UserWarning: Do not pass an `input_shape`/`input_dim` argument to a layer. When using Sequential models, prefer using an `Input(shape)` object as the first layer in the model instead.\n",
            "  super().__init__(**kwargs)\n"
          ]
        },
        {
          "output_type": "display_data",
          "data": {
            "text/plain": [
              "\u001b[1mModel: \"sequential\"\u001b[0m\n"
            ],
            "text/html": [
              "<pre style=\"white-space:pre;overflow-x:auto;line-height:normal;font-family:Menlo,'DejaVu Sans Mono',consolas,'Courier New',monospace\"><span style=\"font-weight: bold\">Model: \"sequential\"</span>\n",
              "</pre>\n"
            ]
          },
          "metadata": {}
        },
        {
          "output_type": "display_data",
          "data": {
            "text/plain": [
              "┏━━━━━━━━━━━━━━━━━━━━━━━━━━━━━━━━━━━━━━┳━━━━━━━━━━━━━━━━━━━━━━━━━━━━━┳━━━━━━━━━━━━━━━━━┓\n",
              "┃\u001b[1m \u001b[0m\u001b[1mLayer (type)                        \u001b[0m\u001b[1m \u001b[0m┃\u001b[1m \u001b[0m\u001b[1mOutput Shape               \u001b[0m\u001b[1m \u001b[0m┃\u001b[1m \u001b[0m\u001b[1m        Param #\u001b[0m\u001b[1m \u001b[0m┃\n",
              "┡━━━━━━━━━━━━━━━━━━━━━━━━━━━━━━━━━━━━━━╇━━━━━━━━━━━━━━━━━━━━━━━━━━━━━╇━━━━━━━━━━━━━━━━━┩\n",
              "│ lstm (\u001b[38;5;33mLSTM\u001b[0m)                          │ (\u001b[38;5;45mNone\u001b[0m, \u001b[38;5;34m50\u001b[0m)                  │          \u001b[38;5;34m15,400\u001b[0m │\n",
              "├──────────────────────────────────────┼─────────────────────────────┼─────────────────┤\n",
              "│ dense (\u001b[38;5;33mDense\u001b[0m)                        │ (\u001b[38;5;45mNone\u001b[0m, \u001b[38;5;34m1\u001b[0m)                   │              \u001b[38;5;34m51\u001b[0m │\n",
              "└──────────────────────────────────────┴─────────────────────────────┴─────────────────┘\n"
            ],
            "text/html": [
              "<pre style=\"white-space:pre;overflow-x:auto;line-height:normal;font-family:Menlo,'DejaVu Sans Mono',consolas,'Courier New',monospace\">┏━━━━━━━━━━━━━━━━━━━━━━━━━━━━━━━━━━━━━━┳━━━━━━━━━━━━━━━━━━━━━━━━━━━━━┳━━━━━━━━━━━━━━━━━┓\n",
              "┃<span style=\"font-weight: bold\"> Layer (type)                         </span>┃<span style=\"font-weight: bold\"> Output Shape                </span>┃<span style=\"font-weight: bold\">         Param # </span>┃\n",
              "┡━━━━━━━━━━━━━━━━━━━━━━━━━━━━━━━━━━━━━━╇━━━━━━━━━━━━━━━━━━━━━━━━━━━━━╇━━━━━━━━━━━━━━━━━┩\n",
              "│ lstm (<span style=\"color: #0087ff; text-decoration-color: #0087ff\">LSTM</span>)                          │ (<span style=\"color: #00d7ff; text-decoration-color: #00d7ff\">None</span>, <span style=\"color: #00af00; text-decoration-color: #00af00\">50</span>)                  │          <span style=\"color: #00af00; text-decoration-color: #00af00\">15,400</span> │\n",
              "├──────────────────────────────────────┼─────────────────────────────┼─────────────────┤\n",
              "│ dense (<span style=\"color: #0087ff; text-decoration-color: #0087ff\">Dense</span>)                        │ (<span style=\"color: #00d7ff; text-decoration-color: #00d7ff\">None</span>, <span style=\"color: #00af00; text-decoration-color: #00af00\">1</span>)                   │              <span style=\"color: #00af00; text-decoration-color: #00af00\">51</span> │\n",
              "└──────────────────────────────────────┴─────────────────────────────┴─────────────────┘\n",
              "</pre>\n"
            ]
          },
          "metadata": {}
        },
        {
          "output_type": "display_data",
          "data": {
            "text/plain": [
              "\u001b[1m Total params: \u001b[0m\u001b[38;5;34m15,451\u001b[0m (60.36 KB)\n"
            ],
            "text/html": [
              "<pre style=\"white-space:pre;overflow-x:auto;line-height:normal;font-family:Menlo,'DejaVu Sans Mono',consolas,'Courier New',monospace\"><span style=\"font-weight: bold\"> Total params: </span><span style=\"color: #00af00; text-decoration-color: #00af00\">15,451</span> (60.36 KB)\n",
              "</pre>\n"
            ]
          },
          "metadata": {}
        },
        {
          "output_type": "display_data",
          "data": {
            "text/plain": [
              "\u001b[1m Trainable params: \u001b[0m\u001b[38;5;34m15,451\u001b[0m (60.36 KB)\n"
            ],
            "text/html": [
              "<pre style=\"white-space:pre;overflow-x:auto;line-height:normal;font-family:Menlo,'DejaVu Sans Mono',consolas,'Courier New',monospace\"><span style=\"font-weight: bold\"> Trainable params: </span><span style=\"color: #00af00; text-decoration-color: #00af00\">15,451</span> (60.36 KB)\n",
              "</pre>\n"
            ]
          },
          "metadata": {}
        },
        {
          "output_type": "display_data",
          "data": {
            "text/plain": [
              "\u001b[1m Non-trainable params: \u001b[0m\u001b[38;5;34m0\u001b[0m (0.00 B)\n"
            ],
            "text/html": [
              "<pre style=\"white-space:pre;overflow-x:auto;line-height:normal;font-family:Menlo,'DejaVu Sans Mono',consolas,'Courier New',monospace\"><span style=\"font-weight: bold\"> Non-trainable params: </span><span style=\"color: #00af00; text-decoration-color: #00af00\">0</span> (0.00 B)\n",
              "</pre>\n"
            ]
          },
          "metadata": {}
        },
        {
          "output_type": "stream",
          "name": "stdout",
          "text": [
            "Epoch 1/50\n",
            "\u001b[1m780/780\u001b[0m \u001b[32m━━━━━━━━━━━━━━━━━━━━\u001b[0m\u001b[37m\u001b[0m \u001b[1m7s\u001b[0m 6ms/step - loss: 0.0780 - val_loss: 0.1002\n",
            "Epoch 2/50\n",
            "\u001b[1m780/780\u001b[0m \u001b[32m━━━━━━━━━━━━━━━━━━━━\u001b[0m\u001b[37m\u001b[0m \u001b[1m6s\u001b[0m 7ms/step - loss: 0.0777 - val_loss: 0.1004\n",
            "Epoch 3/50\n",
            "\u001b[1m780/780\u001b[0m \u001b[32m━━━━━━━━━━━━━━━━━━━━\u001b[0m\u001b[37m\u001b[0m \u001b[1m9s\u001b[0m 6ms/step - loss: 0.0774 - val_loss: 0.1003\n",
            "Epoch 4/50\n",
            "\u001b[1m780/780\u001b[0m \u001b[32m━━━━━━━━━━━━━━━━━━━━\u001b[0m\u001b[37m\u001b[0m \u001b[1m8s\u001b[0m 10ms/step - loss: 0.0774 - val_loss: 0.1004\n",
            "Epoch 5/50\n",
            "\u001b[1m780/780\u001b[0m \u001b[32m━━━━━━━━━━━━━━━━━━━━\u001b[0m\u001b[37m\u001b[0m \u001b[1m5s\u001b[0m 6ms/step - loss: 0.0776 - val_loss: 0.1003\n",
            "Epoch 6/50\n",
            "\u001b[1m780/780\u001b[0m \u001b[32m━━━━━━━━━━━━━━━━━━━━\u001b[0m\u001b[37m\u001b[0m \u001b[1m5s\u001b[0m 6ms/step - loss: 0.0775 - val_loss: 0.1003\n",
            "Epoch 7/50\n",
            "\u001b[1m780/780\u001b[0m \u001b[32m━━━━━━━━━━━━━━━━━━━━\u001b[0m\u001b[37m\u001b[0m \u001b[1m7s\u001b[0m 8ms/step - loss: 0.0775 - val_loss: 0.1005\n",
            "Epoch 8/50\n",
            "\u001b[1m780/780\u001b[0m \u001b[32m━━━━━━━━━━━━━━━━━━━━\u001b[0m\u001b[37m\u001b[0m \u001b[1m8s\u001b[0m 6ms/step - loss: 0.0775 - val_loss: 0.1003\n",
            "Epoch 9/50\n",
            "\u001b[1m780/780\u001b[0m \u001b[32m━━━━━━━━━━━━━━━━━━━━\u001b[0m\u001b[37m\u001b[0m \u001b[1m7s\u001b[0m 9ms/step - loss: 0.0774 - val_loss: 0.1002\n",
            "Epoch 10/50\n",
            "\u001b[1m780/780\u001b[0m \u001b[32m━━━━━━━━━━━━━━━━━━━━\u001b[0m\u001b[37m\u001b[0m \u001b[1m5s\u001b[0m 6ms/step - loss: 0.0775 - val_loss: 0.1003\n",
            "Epoch 11/50\n",
            "\u001b[1m780/780\u001b[0m \u001b[32m━━━━━━━━━━━━━━━━━━━━\u001b[0m\u001b[37m\u001b[0m \u001b[1m5s\u001b[0m 6ms/step - loss: 0.0775 - val_loss: 0.1002\n",
            "Epoch 12/50\n",
            "\u001b[1m780/780\u001b[0m \u001b[32m━━━━━━━━━━━━━━━━━━━━\u001b[0m\u001b[37m\u001b[0m \u001b[1m7s\u001b[0m 8ms/step - loss: 0.0777 - val_loss: 0.1002\n",
            "Epoch 13/50\n",
            "\u001b[1m780/780\u001b[0m \u001b[32m━━━━━━━━━━━━━━━━━━━━\u001b[0m\u001b[37m\u001b[0m \u001b[1m5s\u001b[0m 6ms/step - loss: 0.0774 - val_loss: 0.1002\n",
            "Epoch 14/50\n",
            "\u001b[1m780/780\u001b[0m \u001b[32m━━━━━━━━━━━━━━━━━━━━\u001b[0m\u001b[37m\u001b[0m \u001b[1m5s\u001b[0m 7ms/step - loss: 0.0776 - val_loss: 0.1003\n",
            "Epoch 15/50\n",
            "\u001b[1m780/780\u001b[0m \u001b[32m━━━━━━━━━━━━━━━━━━━━\u001b[0m\u001b[37m\u001b[0m \u001b[1m10s\u001b[0m 6ms/step - loss: 0.0774 - val_loss: 0.1003\n",
            "Epoch 16/50\n",
            "\u001b[1m780/780\u001b[0m \u001b[32m━━━━━━━━━━━━━━━━━━━━\u001b[0m\u001b[37m\u001b[0m \u001b[1m7s\u001b[0m 8ms/step - loss: 0.0774 - val_loss: 0.1002\n",
            "Epoch 17/50\n",
            "\u001b[1m780/780\u001b[0m \u001b[32m━━━━━━━━━━━━━━━━━━━━\u001b[0m\u001b[37m\u001b[0m \u001b[1m8s\u001b[0m 6ms/step - loss: 0.0775 - val_loss: 0.1002\n",
            "Epoch 18/50\n",
            "\u001b[1m780/780\u001b[0m \u001b[32m━━━━━━━━━━━━━━━━━━━━\u001b[0m\u001b[37m\u001b[0m \u001b[1m7s\u001b[0m 9ms/step - loss: 0.0775 - val_loss: 0.1003\n",
            "Epoch 19/50\n",
            "\u001b[1m780/780\u001b[0m \u001b[32m━━━━━━━━━━━━━━━━━━━━\u001b[0m\u001b[37m\u001b[0m \u001b[1m8s\u001b[0m 6ms/step - loss: 0.0773 - val_loss: 0.1002\n",
            "Epoch 20/50\n",
            "\u001b[1m780/780\u001b[0m \u001b[32m━━━━━━━━━━━━━━━━━━━━\u001b[0m\u001b[37m\u001b[0m \u001b[1m7s\u001b[0m 9ms/step - loss: 0.0776 - val_loss: 0.1002\n",
            "Epoch 21/50\n",
            "\u001b[1m780/780\u001b[0m \u001b[32m━━━━━━━━━━━━━━━━━━━━\u001b[0m\u001b[37m\u001b[0m \u001b[1m5s\u001b[0m 6ms/step - loss: 0.0774 - val_loss: 0.1003\n",
            "Epoch 22/50\n",
            "\u001b[1m780/780\u001b[0m \u001b[32m━━━━━━━━━━━━━━━━━━━━\u001b[0m\u001b[37m\u001b[0m \u001b[1m5s\u001b[0m 6ms/step - loss: 0.0774 - val_loss: 0.1002\n",
            "Epoch 23/50\n",
            "\u001b[1m780/780\u001b[0m \u001b[32m━━━━━━━━━━━━━━━━━━━━\u001b[0m\u001b[37m\u001b[0m \u001b[1m7s\u001b[0m 9ms/step - loss: 0.0775 - val_loss: 0.1002\n",
            "Epoch 24/50\n",
            "\u001b[1m780/780\u001b[0m \u001b[32m━━━━━━━━━━━━━━━━━━━━\u001b[0m\u001b[37m\u001b[0m \u001b[1m5s\u001b[0m 6ms/step - loss: 0.0776 - val_loss: 0.1003\n",
            "Epoch 25/50\n",
            "\u001b[1m780/780\u001b[0m \u001b[32m━━━━━━━━━━━━━━━━━━━━\u001b[0m\u001b[37m\u001b[0m \u001b[1m6s\u001b[0m 7ms/step - loss: 0.0774 - val_loss: 0.1003\n",
            "Epoch 26/50\n",
            "\u001b[1m780/780\u001b[0m \u001b[32m━━━━━━━━━━━━━━━━━━━━\u001b[0m\u001b[37m\u001b[0m \u001b[1m10s\u001b[0m 6ms/step - loss: 0.0773 - val_loss: 0.1002\n",
            "Epoch 27/50\n",
            "\u001b[1m780/780\u001b[0m \u001b[32m━━━━━━━━━━━━━━━━━━━━\u001b[0m\u001b[37m\u001b[0m \u001b[1m6s\u001b[0m 8ms/step - loss: 0.0775 - val_loss: 0.1002\n",
            "Epoch 28/50\n",
            "\u001b[1m780/780\u001b[0m \u001b[32m━━━━━━━━━━━━━━━━━━━━\u001b[0m\u001b[37m\u001b[0m \u001b[1m9s\u001b[0m 6ms/step - loss: 0.0775 - val_loss: 0.1003\n",
            "Epoch 29/50\n",
            "\u001b[1m780/780\u001b[0m \u001b[32m━━━━━━━━━━━━━━━━━━━━\u001b[0m\u001b[37m\u001b[0m \u001b[1m7s\u001b[0m 9ms/step - loss: 0.0776 - val_loss: 0.1003\n",
            "Epoch 30/50\n",
            "\u001b[1m780/780\u001b[0m \u001b[32m━━━━━━━━━━━━━━━━━━━━\u001b[0m\u001b[37m\u001b[0m \u001b[1m8s\u001b[0m 6ms/step - loss: 0.0776 - val_loss: 0.1003\n",
            "Epoch 31/50\n",
            "\u001b[1m780/780\u001b[0m \u001b[32m━━━━━━━━━━━━━━━━━━━━\u001b[0m\u001b[37m\u001b[0m \u001b[1m7s\u001b[0m 9ms/step - loss: 0.0776 - val_loss: 0.1002\n",
            "Epoch 32/50\n",
            "\u001b[1m780/780\u001b[0m \u001b[32m━━━━━━━━━━━━━━━━━━━━\u001b[0m\u001b[37m\u001b[0m \u001b[1m5s\u001b[0m 6ms/step - loss: 0.0774 - val_loss: 0.1003\n",
            "Epoch 33/50\n",
            "\u001b[1m780/780\u001b[0m \u001b[32m━━━━━━━━━━━━━━━━━━━━\u001b[0m\u001b[37m\u001b[0m \u001b[1m5s\u001b[0m 6ms/step - loss: 0.0774 - val_loss: 0.1003\n",
            "Epoch 34/50\n",
            "\u001b[1m780/780\u001b[0m \u001b[32m━━━━━━━━━━━━━━━━━━━━\u001b[0m\u001b[37m\u001b[0m \u001b[1m7s\u001b[0m 9ms/step - loss: 0.0775 - val_loss: 0.1002\n",
            "Epoch 35/50\n",
            "\u001b[1m780/780\u001b[0m \u001b[32m━━━━━━━━━━━━━━━━━━━━\u001b[0m\u001b[37m\u001b[0m \u001b[1m5s\u001b[0m 6ms/step - loss: 0.0774 - val_loss: 0.1003\n",
            "Epoch 36/50\n",
            "\u001b[1m780/780\u001b[0m \u001b[32m━━━━━━━━━━━━━━━━━━━━\u001b[0m\u001b[37m\u001b[0m \u001b[1m6s\u001b[0m 7ms/step - loss: 0.0775 - val_loss: 0.1003\n",
            "Epoch 37/50\n",
            "\u001b[1m780/780\u001b[0m \u001b[32m━━━━━━━━━━━━━━━━━━━━\u001b[0m\u001b[37m\u001b[0m \u001b[1m6s\u001b[0m 8ms/step - loss: 0.0775 - val_loss: 0.1003\n",
            "Epoch 38/50\n",
            "\u001b[1m780/780\u001b[0m \u001b[32m━━━━━━━━━━━━━━━━━━━━\u001b[0m\u001b[37m\u001b[0m \u001b[1m5s\u001b[0m 6ms/step - loss: 0.0773 - val_loss: 0.1002\n",
            "Epoch 39/50\n",
            "\u001b[1m780/780\u001b[0m \u001b[32m━━━━━━━━━━━━━━━━━━━━\u001b[0m\u001b[37m\u001b[0m \u001b[1m6s\u001b[0m 8ms/step - loss: 0.0773 - val_loss: 0.1002\n",
            "Epoch 40/50\n",
            "\u001b[1m780/780\u001b[0m \u001b[32m━━━━━━━━━━━━━━━━━━━━\u001b[0m\u001b[37m\u001b[0m \u001b[1m9s\u001b[0m 6ms/step - loss: 0.0776 - val_loss: 0.1003\n",
            "Epoch 41/50\n",
            "\u001b[1m780/780\u001b[0m \u001b[32m━━━━━━━━━━━━━━━━━━━━\u001b[0m\u001b[37m\u001b[0m \u001b[1m7s\u001b[0m 9ms/step - loss: 0.0775 - val_loss: 0.1002\n",
            "Epoch 42/50\n",
            "\u001b[1m780/780\u001b[0m \u001b[32m━━━━━━━━━━━━━━━━━━━━\u001b[0m\u001b[37m\u001b[0m \u001b[1m5s\u001b[0m 6ms/step - loss: 0.0775 - val_loss: 0.1002\n",
            "Epoch 43/50\n",
            "\u001b[1m780/780\u001b[0m \u001b[32m━━━━━━━━━━━━━━━━━━━━\u001b[0m\u001b[37m\u001b[0m \u001b[1m5s\u001b[0m 6ms/step - loss: 0.0772 - val_loss: 0.1003\n",
            "Epoch 44/50\n",
            "\u001b[1m780/780\u001b[0m \u001b[32m━━━━━━━━━━━━━━━━━━━━\u001b[0m\u001b[37m\u001b[0m \u001b[1m7s\u001b[0m 9ms/step - loss: 0.0774 - val_loss: 0.1002\n",
            "Epoch 45/50\n",
            "\u001b[1m780/780\u001b[0m \u001b[32m━━━━━━━━━━━━━━━━━━━━\u001b[0m\u001b[37m\u001b[0m \u001b[1m8s\u001b[0m 6ms/step - loss: 0.0776 - val_loss: 0.1003\n",
            "Epoch 46/50\n",
            "\u001b[1m780/780\u001b[0m \u001b[32m━━━━━━━━━━━━━━━━━━━━\u001b[0m\u001b[37m\u001b[0m \u001b[1m7s\u001b[0m 9ms/step - loss: 0.0773 - val_loss: 0.1002\n",
            "Epoch 47/50\n",
            "\u001b[1m780/780\u001b[0m \u001b[32m━━━━━━━━━━━━━━━━━━━━\u001b[0m\u001b[37m\u001b[0m \u001b[1m5s\u001b[0m 6ms/step - loss: 0.0774 - val_loss: 0.1002\n",
            "Epoch 48/50\n",
            "\u001b[1m780/780\u001b[0m \u001b[32m━━━━━━━━━━━━━━━━━━━━\u001b[0m\u001b[37m\u001b[0m \u001b[1m6s\u001b[0m 7ms/step - loss: 0.0777 - val_loss: 0.1003\n",
            "Epoch 49/50\n",
            "\u001b[1m780/780\u001b[0m \u001b[32m━━━━━━━━━━━━━━━━━━━━\u001b[0m\u001b[37m\u001b[0m \u001b[1m9s\u001b[0m 6ms/step - loss: 0.0772 - val_loss: 0.1002\n",
            "Epoch 50/50\n",
            "\u001b[1m780/780\u001b[0m \u001b[32m━━━━━━━━━━━━━━━━━━━━\u001b[0m\u001b[37m\u001b[0m \u001b[1m6s\u001b[0m 8ms/step - loss: 0.0774 - val_loss: 0.1002\n"
          ]
        }
      ],
      "source": [
        "import tensorflow as tf\n",
        "from tensorflow.keras.models import Sequential\n",
        "from tensorflow.keras.layers import LSTM, Dense\n",
        "\n",
        "# Define the model\n",
        "model = Sequential([\n",
        "    LSTM(50, activation='tanh', input_shape=(X.shape[1], X.shape[2])),\n",
        "    Dense(1)  # Adjust the output layer based on your task\n",
        "])\n",
        "\n",
        "model.compile(optimizer='adam', loss='mse')\n",
        "model.summary()\n",
        "\n",
        "# Train the model\n",
        "history = model.fit(X, y, epochs=50, batch_size=32, validation_split=1.12)\n"
      ]
    },
    {
      "cell_type": "code",
      "execution_count": 20,
      "metadata": {
        "colab": {
          "base_uri": "https://localhost:8080/"
        },
        "id": "pX0-xldtGXle",
        "outputId": "fc42e87a-761a-4be7-9031-eaa8f9c7b509"
      },
      "outputs": [
        {
          "output_type": "stream",
          "name": "stderr",
          "text": [
            "/usr/local/lib/python3.10/dist-packages/torch/nn/modules/loss.py:608: UserWarning: Using a target size (torch.Size([28362, 26])) that is different to the input size (torch.Size([28362, 1])). This will likely lead to incorrect results due to broadcasting. Please ensure they have the same size.\n",
            "  return F.mse_loss(input, target, reduction=self.reduction)\n"
          ]
        },
        {
          "output_type": "stream",
          "name": "stdout",
          "text": [
            "Epoch 1, Loss: 0.11413153260946274\n",
            "Epoch 2, Loss: 0.10482529550790787\n",
            "Epoch 3, Loss: 0.097127266228199\n",
            "Epoch 4, Loss: 0.09098311513662338\n",
            "Epoch 5, Loss: 0.0863555446267128\n",
            "Epoch 6, Loss: 0.08321557193994522\n",
            "Epoch 7, Loss: 0.08151964843273163\n",
            "Epoch 8, Loss: 0.08115002512931824\n",
            "Epoch 9, Loss: 0.08181693404912949\n",
            "Epoch 10, Loss: 0.08299113065004349\n",
            "Epoch 11, Loss: 0.08405856043100357\n",
            "Epoch 12, Loss: 0.08462014049291611\n",
            "Epoch 13, Loss: 0.08459202200174332\n",
            "Epoch 14, Loss: 0.0841018483042717\n",
            "Epoch 15, Loss: 0.08335473388433456\n",
            "Epoch 16, Loss: 0.08254508674144745\n",
            "Epoch 17, Loss: 0.08181600272655487\n",
            "Epoch 18, Loss: 0.08124996721744537\n",
            "Epoch 19, Loss: 0.0808761864900589\n",
            "Epoch 20, Loss: 0.08068472892045975\n"
          ]
        }
      ],
      "source": [
        "import torch\n",
        "import torch.nn as nn\n",
        "import torch.optim as optim\n",
        "\n",
        "class RNNModel(nn.Module):\n",
        "    def __init__(self, input_dim, hidden_dim, output_dim):\n",
        "        super(RNNModel, self).__init__()\n",
        "        self.rnn = nn.LSTM(input_dim, hidden_dim, batch_first=True)\n",
        "        self.fc = nn.Linear(hidden_dim, output_dim)\n",
        "\n",
        "    def forward(self, x):\n",
        "        _, (hidden, _) = self.rnn(x)\n",
        "        out = self.fc(hidden[-1])\n",
        "        return out\n",
        "\n",
        "model = RNNModel(input_dim=X.shape[2], hidden_dim=50, output_dim=1)\n",
        "criterion = nn.MSELoss()\n",
        "optimizer = optim.Adam(model.parameters(), lr=0.001)\n",
        "\n",
        "# Convert data to tensors and train the model\n",
        "X_tensor = torch.tensor(X, dtype=torch.float32)\n",
        "y_tensor = torch.tensor(y, dtype=torch.float32)\n",
        "\n",
        "for epoch in range(20):\n",
        "    model.train()\n",
        "    optimizer.zero_grad()\n",
        "    output = model(X_tensor)\n",
        "    loss = criterion(output, y_tensor)\n",
        "    loss.backward()\n",
        "    optimizer.step()\n",
        "    print(f\"Epoch {epoch+1}, Loss: {loss.item()}\")\n"
      ]
    },
    {
      "cell_type": "code",
      "source": [
        "import matplotlib.pyplot as plt\n",
        "import numpy as np\n",
        "\n",
        "# Simulated data for demonstration\n",
        "epochs = 30\n",
        "# Accuracy: Zig-zag fluctuations\n",
        "train_accuracy = np.cumsum(np.random.normal(0.01, 0.005, epochs)) + 0.5\n",
        "val_accuracy = np.cumsum(np.random.normal(0.01, 0.005, epochs)) + 0.55\n",
        "\n",
        "# Loss: Zig-zag fluctuations but decreasing\n",
        "train_loss = np.cumsum(np.random.normal(-0.01, 0.005, epochs)) + 0.5\n",
        "val_loss = np.cumsum(np.random.normal(-0.01, 0.005, epochs)) + 0.6\n",
        "\n",
        "# Clip values to stay in range\n",
        "train_accuracy = np.clip(train_accuracy, 0, 1)\n",
        "val_accuracy = np.clip(val_accuracy, 0, 1)\n",
        "train_loss = np.clip(train_loss, 0, 1)\n",
        "val_loss = np.clip(val_loss, 0, 1)\n",
        "\n",
        "# Plot 1: Model Accuracy\n",
        "plt.figure(figsize=(12, 6))\n",
        "plt.plot(range(epochs), train_accuracy, label='Train Accuracy')\n",
        "plt.plot(range(epochs), val_accuracy, label='Validation Accuracy')\n",
        "plt.title('Model Accuracy')\n",
        "plt.xlabel('Epochs')\n",
        "plt.ylabel('Accuracy')\n",
        "plt.legend()\n",
        "plt.savefig('model_accuracy.png')  # Save the plot as an image\n",
        "plt.show()\n",
        "\n",
        "# Plot 2: Model Loss\n",
        "plt.figure(figsize=(12, 6))\n",
        "plt.plot(range(epochs), train_loss, label='Train Loss')\n",
        "plt.plot(range(epochs), val_loss, label='Validation Loss')\n",
        "plt.title('Model Loss')\n",
        "plt.xlabel('Epochs')\n",
        "plt.ylabel('Loss')\n",
        "plt.legend()\n",
        "plt.savefig('model_loss.png')  # Save the plot as an image\n",
        "plt.show()\n"
      ],
      "metadata": {
        "colab": {
          "base_uri": "https://localhost:8080/",
          "height": 1000
        },
        "id": "rnspuEdf3p0Q",
        "outputId": "f127f186-a5b2-46c4-a42a-fac5564a1cf5"
      },
      "execution_count": 1,
      "outputs": [
        {
          "output_type": "display_data",
          "data": {
            "text/plain": [
              "<Figure size 1200x600 with 1 Axes>"
            ],
            "image/png": "[encoded data removed]"
          },
          "metadata": {}
        },
        {
          "output_type": "display_data",
          "data": {
            "text/plain": [
              "<Figure size 1200x600 with 1 Axes>"
            ],
            "image/png": "[encoded data removed]"
          },
          "metadata": {}
        }
      ]
    },
    {
      "cell_type": "code",
      "source": [
        "!pip install torch torchvision torchaudio --index-url https://download.pytorch.org/whl/cu118\n",
        "import torch\n",
        "import torch.nn as nn\n",
        "import torch.optim as optim\n",
        "from sklearn.model_selection import train_test_split\n",
        "\n",
        "# ... (Your existing code for RNNModel, data loading, and training) ...\n",
        "\n",
        "# Split data into training and testing sets\n",
        "X_train, X_test, y_train, y_test = train_test_split(X, y, test_size=0.2, random_state=42) # Adjust test_size and random_state as needed\n",
        "\n",
        "\n",
        "# Evaluation loop\n",
        "model.eval()  # Set the model to evaluation mode\n",
        "with torch.no_grad():  # Disable gradient calculation during evaluation\n",
        "    # Convert data to tensors\n",
        "    X_test_tensor = torch.tensor(X_test, dtype=torch.float32)\n",
        "    y_test_tensor = torch.tensor(y_test, dtype=torch.float32)\n",
        "\n",
        "    predictions = model(X_test_tensor)\n",
        "    test_loss = criterion(predictions, y_test_tensor)\n",
        "\n",
        "    # Calculate accuracy (if applicable to your task)\n",
        "    # ...\n",
        "\n",
        "print(f\"Test Loss: {test_loss:.4f}\")\n",
        "# print(f\"Test Accuracy: {test_accuracy:.4f}\")  # Uncomment if you calculate accuracy"
      ],
      "metadata": {
        "colab": {
          "base_uri": "https://localhost:8080/"
        },
        "id": "c8kn73OiEl0V",
        "outputId": "b844fb62-1870-4919-fd5b-25016d78f611"
      },
      "execution_count": 25,
      "outputs": [
        {
          "output_type": "stream",
          "name": "stdout",
          "text": [
            "Looking in indexes: https://download.pytorch.org/whl/cu118\n",
            "Requirement already satisfied: torch in /usr/local/lib/python3.10/dist-packages (2.5.1+cu121)\n",
            "Requirement already satisfied: torchvision in /usr/local/lib/python3.10/dist-packages (0.20.1+cu121)\n",
            "Requirement already satisfied: torchaudio in /usr/local/lib/python3.10/dist-packages (2.5.1+cu121)\n",
            "Requirement already satisfied: filelock in /usr/local/lib/python3.10/dist-packages (from torch) (3.16.1)\n",
            "Requirement already satisfied: typing-extensions>=4.8.0 in /usr/local/lib/python3.10/dist-packages (from torch) (4.12.2)\n",
            "Requirement already satisfied: networkx in /usr/local/lib/python3.10/dist-packages (from torch) (3.4.2)\n",
            "Requirement already satisfied: jinja2 in /usr/local/lib/python3.10/dist-packages (from torch) (3.1.4)\n",
            "Requirement already satisfied: fsspec in /usr/local/lib/python3.10/dist-packages (from torch) (2024.10.0)\n",
            "Requirement already satisfied: sympy==1.13.1 in /usr/local/lib/python3.10/dist-packages (from torch) (1.13.1)\n",
            "Requirement already satisfied: mpmath<1.4,>=1.1.0 in /usr/local/lib/python3.10/dist-packages (from sympy==1.13.1->torch) (1.3.0)\n",
            "Requirement already satisfied: numpy in /usr/local/lib/python3.10/dist-packages (from torchvision) (1.26.4)\n",
            "Requirement already satisfied: pillow!=8.3.*,>=5.3.0 in /usr/local/lib/python3.10/dist-packages (from torchvision) (11.0.0)\n",
            "Requirement already satisfied: MarkupSafe>=2.0 in /usr/local/lib/python3.10/dist-packages (from jinja2->torch) (3.0.2)\n",
            "Test Loss: 0.0803\n"
          ]
        },
        {
          "output_type": "stream",
          "name": "stderr",
          "text": [
            "/usr/local/lib/python3.10/dist-packages/torch/nn/modules/loss.py:608: UserWarning: Using a target size (torch.Size([5673, 26])) that is different to the input size (torch.Size([5673, 1])). This will likely lead to incorrect results due to broadcasting. Please ensure they have the same size.\n",
            "  return F.mse_loss(input, target, reduction=self.reduction)\n"
          ]
        }
      ]
    },
    {
      "cell_type": "code",
      "source": [
        "# Evaluate the model on the test data using PyTorch\n",
        "model.eval()  # Set the model to evaluation mode\n",
        "with torch.no_grad():\n",
        "    X_test_tensor = torch.tensor(X_test, dtype=torch.float32)\n",
        "    y_test_tensor = torch.tensor(y_test, dtype=torch.float32)\n",
        "    predictions = model(X_test_tensor)\n",
        "    test_loss = criterion(predictions, y_test_tensor)\n",
        "\n",
        "print(f\"Test Loss: {test_loss:.4f}\")"
      ],
      "metadata": {
        "colab": {
          "base_uri": "https://localhost:8080/"
        },
        "id": "uvz3A0MkHa-v",
        "outputId": "4f0f7502-8a3a-4013-a025-d65ea85a3ef6"
      },
      "execution_count": 27,
      "outputs": [
        {
          "output_type": "stream",
          "name": "stdout",
          "text": [
            "Test Loss: 0.0803\n"
          ]
        },
        {
          "output_type": "stream",
          "name": "stderr",
          "text": [
            "/usr/local/lib/python3.10/dist-packages/torch/nn/modules/loss.py:608: UserWarning: Using a target size (torch.Size([5673, 26])) that is different to the input size (torch.Size([5673, 1])). This will likely lead to incorrect results due to broadcasting. Please ensure they have the same size.\n",
            "  return F.mse_loss(input, target, reduction=self.reduction)\n"
          ]
        }
      ]
    },
    {
      "cell_type": "code",
      "source": [
        "# Evaluate the model on the test data using PyTorch\n",
        "model.eval()  # Set the model to evaluation mode\n",
        "with torch.no_grad():\n",
        "    X_test_tensor = torch.tensor(X_test, dtype=torch.float32)\n",
        "    y_test_tensor = torch.tensor(y_test, dtype=torch.float32)\n",
        "    predictions = model(X_test_tensor)\n",
        "    test_loss = criterion(predictions, y_test_tensor)\n",
        "\n",
        "    # Calculate R-squared\n",
        "    total_variance = torch.sum((y_test_tensor - torch.mean(y_test_tensor)) ** 2)\n",
        "    explained_variance = torch.sum((predictions - torch.mean(y_test_tensor)) ** 2)\n",
        "    r_squared = explained_variance / total_variance\n",
        "\n",
        "print(f\"Test Loss: {test_loss:.4f}\")\n",
        "print(f\"Total Accuracy (R-squared): {r_squared:.4f}\")  # Or print accuracy if doing classification"
      ],
      "metadata": {
        "colab": {
          "base_uri": "https://localhost:8080/"
        },
        "id": "72on-7vcHtq4",
        "outputId": "21e69ed7-2b24-40c9-bc3e-5e7ecf443bd7"
      },
      "execution_count": 28,
      "outputs": [
        {
          "output_type": "stream",
          "name": "stdout",
          "text": [
            "Test Loss: 0.0803\n",
            "Total Accuracy (R-squared): 0.0001\n"
          ]
        }
      ]
    },
    {
      "cell_type": "code",
      "source": [
        "from tensorflow.keras.models import Sequential\n",
        "from tensorflow.keras.layers import SimpleRNN, Dense\n",
        "\n",
        "# ... (Your existing code) ...\n",
        "\n",
        "model = Sequential([\n",
        "    SimpleRNN(64, input_shape=(X_train.shape[1], X_train.shape[2])),\n",
        "    Dense(y_train.shape[1], activation='softmax')  # Change to y_train.shape[1] for output dimension\n",
        "])\n",
        "\n",
        "# ... (Rest of your code) ..."
      ],
      "metadata": {
        "colab": {
          "base_uri": "https://localhost:8080/"
        },
        "id": "LISeiiZ4KD7l",
        "outputId": "e26ddfa6-1f8d-44d7-cca9-6e5e1a995ea4"
      },
      "execution_count": 34,
      "outputs": [
        {
          "output_type": "stream",
          "name": "stderr",
          "text": [
            "/usr/local/lib/python3.10/dist-packages/keras/src/layers/rnn/rnn.py:204: UserWarning: Do not pass an `input_shape`/`input_dim` argument to a layer. When using Sequential models, prefer using an `Input(shape)` object as the first layer in the model instead.\n",
            "  super().__init__(**kwargs)\n"
          ]
        }
      ]
    },
    {
      "cell_type": "code",
      "source": [
        "print(np.unique(y_test))\n",
        "print(np.unique(y_pred))\n"
      ],
      "metadata": {
        "colab": {
          "base_uri": "https://localhost:8080/"
        },
        "id": "_9uBKtaCLbFI",
        "outputId": "770d69a3-9a76-41e1-82e9-b913d4a4e2e0"
      },
      "execution_count": 39,
      "outputs": [
        {
          "output_type": "stream",
          "name": "stdout",
          "text": [
            "[ 0  1  2  3  4  5  6  7  8  9 10 11 12 13 14 15 16 17 19 20 21 22 23 24\n",
            " 25]\n",
            "[0]\n"
          ]
        }
      ]
    },
    {
      "cell_type": "code",
      "source": [
        "print(f\"Predicted labels: {y_pred[:10]}\")\n",
        "print(f\"Actual labels: {y_test[:10]}\")\n"
      ],
      "metadata": {
        "colab": {
          "base_uri": "https://localhost:8080/"
        },
        "id": "qvn8t9hMLezo",
        "outputId": "5407cbf4-45bd-4c05-f97e-3fa4ba73720d"
      },
      "execution_count": 40,
      "outputs": [
        {
          "output_type": "stream",
          "name": "stdout",
          "text": [
            "Predicted labels: [0 0 0 0 0 0 0 0 0 0]\n",
            "Actual labels: [21 20 21 23 24 21 23 21  0 25]\n"
          ]
        }
      ]
    },
    {
      "cell_type": "code",
      "source": [
        "# Initialize lists to store loss and accuracy during training\n",
        "train_losses = []\n",
        "train_accuracies = []  # If you are calculating accuracy\n",
        "\n",
        "# Inside your training loop (for epoch in range(20): ...):\n",
        "for epoch in range(20):  # Your existing loop\n",
        "    # ... (your existing training code) ...\n",
        "\n",
        "    # Correct indentation for appending loss to the list\n",
        "    train_losses.append(loss.item())\n",
        "\n",
        "    # Calculate and append accuracy if applicable\n",
        "    # ...\n",
        "\n",
        "# After the training loop\n",
        "history = {\n",
        "    'loss': train_losses,\n",
        "    'accuracy': train_accuracies  # If you were tracking accuracy\n",
        "}\n",
        "\n",
        "# Now you can access the history:\n",
        "print(history['loss'])\n",
        "print(history['accuracy'])  # If you were tracking accuracy"
      ],
      "metadata": {
        "colab": {
          "base_uri": "https://localhost:8080/"
        },
        "id": "E2mxlCkWLzae",
        "outputId": "d8e129e6-2b15-4f68-a825-e19338055ea0"
      },
      "execution_count": 44,
      "outputs": [
        {
          "output_type": "stream",
          "name": "stdout",
          "text": [
            "[0.08068472892045975, 0.08068472892045975, 0.08068472892045975, 0.08068472892045975, 0.08068472892045975, 0.08068472892045975, 0.08068472892045975, 0.08068472892045975, 0.08068472892045975, 0.08068472892045975, 0.08068472892045975, 0.08068472892045975, 0.08068472892045975, 0.08068472892045975, 0.08068472892045975, 0.08068472892045975, 0.08068472892045975, 0.08068472892045975, 0.08068472892045975, 0.08068472892045975]\n",
            "[]\n"
          ]
        }
      ]
    },
    {
      "cell_type": "code",
      "source": [
        "print(y_train.shape)\n",
        "print(y_test.shape)\n"
      ],
      "metadata": {
        "colab": {
          "base_uri": "https://localhost:8080/"
        },
        "id": "ALFrsNTHM-8-",
        "outputId": "cd9b6cca-52d0-4c36-a93f-894f4dd17ebd"
      },
      "execution_count": 48,
      "outputs": [
        {
          "output_type": "stream",
          "name": "stdout",
          "text": [
            "(22689, 26)\n",
            "(5673,)\n"
          ]
        }
      ]
    },
    {
      "cell_type": "code",
      "source": [
        "from sklearn.metrics import confusion_matrix, classification_report\n",
        "\n",
        "# Predict the classes for the test set\n",
        "y_pred = np.argmax(model.predict(X_test), axis=-1)  # Model output is one-hot encoded\n",
        "\n",
        "# Confusion matrix\n",
        "conf_matrix = confusion_matrix(y_test, y_pred)  # Use y_test directly\n",
        "print(\"Confusion Matrix:\")\n",
        "print(conf_matrix)\n",
        "\n",
        "# Classification report\n",
        "class_report = classification_report(y_test, y_pred)  # Use y_test directly\n",
        "print(\"\\nClassification Report:\")\n",
        "print(class_report)\n"
      ],
      "metadata": {
        "colab": {
          "base_uri": "https://localhost:8080/"
        },
        "id": "7GXSzEi-NGUW",
        "outputId": "f94ac41b-07f5-4a29-b4da-e035952468cc"
      },
      "execution_count": 50,
      "outputs": [
        {
          "output_type": "stream",
          "name": "stdout",
          "text": [
            "\u001b[1m178/178\u001b[0m \u001b[32m━━━━━━━━━━━━━━━━━━━━\u001b[0m\u001b[37m\u001b[0m \u001b[1m0s\u001b[0m 2ms/step\n",
            "Confusion Matrix:\n",
            "[[ 848    0    0    0    0    0    0    0    0    0    0    0    0    0\n",
            "     0    0    0    0    0    0    0    0    0    0    0]\n",
            " [1085    0    0    0    0    0    0    0    0    0    0    0    0    0\n",
            "     0    0    0    0    0    0    0    0    0    0    0]\n",
            " [ 180    0    0    0    0    0    0    0    0    0    0    0    0    0\n",
            "     0    0    0    0    0    0    0    0    0    0    0]\n",
            " [   2    0    0    0    0    0    0    0    0    0    0    0    0    0\n",
            "     0    0    0    0    0    0    0    0    0    0    0]\n",
            " [   9    0    0    0    0    0    0    0    0    0    0    0    0    0\n",
            "     0    0    0    0    0    0    0    0    0    0    0]\n",
            " [  17    0    0    0    0    0    0    0    0    0    0    0    0    0\n",
            "     0    0    0    0    0    0    0    0    0    0    0]\n",
            " [   3    0    0    0    0    0    0    0    0    0    0    0    0    0\n",
            "     0    0    0    0    0    0    0    0    0    0    0]\n",
            " [   1    0    0    0    0    0    0    0    0    0    0    0    0    0\n",
            "     0    0    0    0    0    0    0    0    0    0    0]\n",
            " [   2    0    0    0    0    0    0    0    0    0    0    0    0    0\n",
            "     0    0    0    0    0    0    0    0    0    0    0]\n",
            " [   6    0    0    0    0    0    0    0    0    0    0    0    0    0\n",
            "     0    0    0    0    0    0    0    0    0    0    0]\n",
            " [  15    0    0    0    0    0    0    0    0    0    0    0    0    0\n",
            "     0    0    0    0    0    0    0    0    0    0    0]\n",
            " [   3    0    0    0    0    0    0    0    0    0    0    0    0    0\n",
            "     0    0    0    0    0    0    0    0    0    0    0]\n",
            " [   5    0    0    0    0    0    0    0    0    0    0    0    0    0\n",
            "     0    0    0    0    0    0    0    0    0    0    0]\n",
            " [   8    0    0    0    0    0    0    0    0    0    0    0    0    0\n",
            "     0    0    0    0    0    0    0    0    0    0    0]\n",
            " [   8    0    0    0    0    0    0    0    0    0    0    0    0    0\n",
            "     0    0    0    0    0    0    0    0    0    0    0]\n",
            " [   2    0    0    0    0    0    0    0    0    0    0    0    0    0\n",
            "     0    0    0    0    0    0    0    0    0    0    0]\n",
            " [   1    0    0    0    0    0    0    0    0    0    0    0    0    0\n",
            "     0    0    0    0    0    0    0    0    0    0    0]\n",
            " [  19    0    0    0    0    0    0    0    0    0    0    0    0    0\n",
            "     0    0    0    0    0    0    0    0    0    0    0]\n",
            " [ 236    0    0    0    0    0    0    0    0    0    0    0    0    0\n",
            "     0    0    0    0    0    0    0    0    0    0    0]\n",
            " [ 280    0    0    0    0    0    0    0    0    0    0    0    0    0\n",
            "     0    0    0    0    0    0    0    0    0    0    0]\n",
            " [ 745    0    0    0    0    0    0    0    0    0    0    0    0    0\n",
            "     0    0    0    0    0    0    0    0    0    0    0]\n",
            " [  93    0    0    0    0    0    0    0    0    0    0    0    0    0\n",
            "     0    0    0    0    0    0    0    0    0    0    0]\n",
            " [ 852    0    0    0    0    0    0    0    0    0    0    0    0    0\n",
            "     0    0    0    0    0    0    0    0    0    0    0]\n",
            " [ 768    0    0    0    0    0    0    0    0    0    0    0    0    0\n",
            "     0    0    0    0    0    0    0    0    0    0    0]\n",
            " [ 485    0    0    0    0    0    0    0    0    0    0    0    0    0\n",
            "     0    0    0    0    0    0    0    0    0    0    0]]\n",
            "\n",
            "Classification Report:\n",
            "              precision    recall  f1-score   support\n",
            "\n",
            "           0       0.15      1.00      0.26       848\n",
            "           1       0.00      0.00      0.00      1085\n",
            "           2       0.00      0.00      0.00       180\n",
            "           3       0.00      0.00      0.00         2\n",
            "           4       0.00      0.00      0.00         9\n",
            "           5       0.00      0.00      0.00        17\n",
            "           6       0.00      0.00      0.00         3\n",
            "           7       0.00      0.00      0.00         1\n",
            "           8       0.00      0.00      0.00         2\n",
            "           9       0.00      0.00      0.00         6\n",
            "          10       0.00      0.00      0.00        15\n",
            "          11       0.00      0.00      0.00         3\n",
            "          12       0.00      0.00      0.00         5\n",
            "          13       0.00      0.00      0.00         8\n",
            "          14       0.00      0.00      0.00         8\n",
            "          15       0.00      0.00      0.00         2\n",
            "          16       0.00      0.00      0.00         1\n",
            "          17       0.00      0.00      0.00        19\n",
            "          19       0.00      0.00      0.00       236\n",
            "          20       0.00      0.00      0.00       280\n",
            "          21       0.00      0.00      0.00       745\n",
            "          22       0.00      0.00      0.00        93\n",
            "          23       0.00      0.00      0.00       852\n",
            "          24       0.00      0.00      0.00       768\n",
            "          25       0.00      0.00      0.00       485\n",
            "\n",
            "    accuracy                           0.15      5673\n",
            "   macro avg       0.01      0.04      0.01      5673\n",
            "weighted avg       0.02      0.15      0.04      5673\n",
            "\n"
          ]
        },
        {
          "output_type": "stream",
          "name": "stderr",
          "text": [
            "/usr/local/lib/python3.10/dist-packages/sklearn/metrics/_classification.py:1531: UndefinedMetricWarning: Precision is ill-defined and being set to 0.0 in labels with no predicted samples. Use `zero_division` parameter to control this behavior.\n",
            "  _warn_prf(average, modifier, f\"{metric.capitalize()} is\", len(result))\n",
            "/usr/local/lib/python3.10/dist-packages/sklearn/metrics/_classification.py:1531: UndefinedMetricWarning: Precision is ill-defined and being set to 0.0 in labels with no predicted samples. Use `zero_division` parameter to control this behavior.\n",
            "  _warn_prf(average, modifier, f\"{metric.capitalize()} is\", len(result))\n",
            "/usr/local/lib/python3.10/dist-packages/sklearn/metrics/_classification.py:1531: UndefinedMetricWarning: Precision is ill-defined and being set to 0.0 in labels with no predicted samples. Use `zero_division` parameter to control this behavior.\n",
            "  _warn_prf(average, modifier, f\"{metric.capitalize()} is\", len(result))\n"
          ]
        }
      ]
    }
  ],
  "metadata": {
    "colab": {
      "provenance": []
    },
    "kernelspec": {
      "display_name": "Python 3",
      "name": "python3"
    },
    "language_info": {
      "name": "python"
    }
  },
  "nbformat": 4,
  "nbformat_minor": 0
}